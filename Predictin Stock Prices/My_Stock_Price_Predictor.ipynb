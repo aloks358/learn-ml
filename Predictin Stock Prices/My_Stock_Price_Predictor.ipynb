{
  "nbformat": 4,
  "nbformat_minor": 0,
  "metadata": {
    "language_info": {
      "codemirror_mode": {
        "name": "ipython",
        "version": 3
      },
      "file_extension": ".py",
      "mimetype": "text/x-python",
      "name": "python",
      "nbconvert_exporter": "python",
      "pygments_lexer": "ipython3",
      "version": "3.7.4-final"
    },
    "orig_nbformat": 2,
    "kernelspec": {
      "name": "python374jvsc74a57bd08677be7ea0131bcafc7ea7559c4ac696408d005fe675e1b3d1c8f3cdc3985760",
      "display_name": "Python 3.7.4 64-bit (conda)"
    },
    "colab": {
      "name": "My Stock Price Predictor.ipynb",
      "provenance": []
    }
  },
  "cells": [
    {
      "cell_type": "code",
      "metadata": {
        "id": "UbLUA0UIB1cP"
      },
      "source": [
        "import math\n",
        "import pandas as pd\n",
        "import numpy as np\n",
        "import pandas_datareader as pdr\n",
        "from sklearn.preprocessing import MinMaxScaler\n",
        "from keras.models import Sequential\n",
        "from keras.layers import Dense, LSTM\n",
        "import matplotlib.pyplot as plt\n",
        "plt.style.use('fivethirtyeight')"
      ],
      "execution_count": null,
      "outputs": []
    },
    {
      "cell_type": "code",
      "metadata": {
        "id": "jv78HgThB1cR"
      },
      "source": [
        "#df = pdr.DataReader('APPL ', data_source='yahoo', start='2012-01-01', end='2021-04-18')\n",
        "#df"
      ],
      "execution_count": null,
      "outputs": []
    },
    {
      "cell_type": "code",
      "metadata": {
        "id": "78xDkiWRCjj3"
      },
      "source": [
        "df1 = pdr.DataReader(\"RELIANCE.NS\", \n",
        "                       start='2015-1-1', \n",
        "                       end='2021-4-19', \n",
        "                       data_source='yahoo')\n",
        "\n"
      ],
      "execution_count": null,
      "outputs": []
    },
    {
      "cell_type": "code",
      "metadata": {
        "colab": {
          "base_uri": "https://localhost:8080/",
          "height": 436
        },
        "id": "0SvBQbvKC-OC",
        "outputId": "a3c81670-312b-4451-9dd0-502650b2bd18"
      },
      "source": [
        "df1"
      ],
      "execution_count": null,
      "outputs": [
        {
          "output_type": "execute_result",
          "data": {
            "text/html": [
              "<div>\n",
              "<style scoped>\n",
              "    .dataframe tbody tr th:only-of-type {\n",
              "        vertical-align: middle;\n",
              "    }\n",
              "\n",
              "    .dataframe tbody tr th {\n",
              "        vertical-align: top;\n",
              "    }\n",
              "\n",
              "    .dataframe thead th {\n",
              "        text-align: right;\n",
              "    }\n",
              "</style>\n",
              "<table border=\"1\" class=\"dataframe\">\n",
              "  <thead>\n",
              "    <tr style=\"text-align: right;\">\n",
              "      <th></th>\n",
              "      <th>High</th>\n",
              "      <th>Low</th>\n",
              "      <th>Open</th>\n",
              "      <th>Close</th>\n",
              "      <th>Volume</th>\n",
              "      <th>Adj Close</th>\n",
              "    </tr>\n",
              "    <tr>\n",
              "      <th>Date</th>\n",
              "      <th></th>\n",
              "      <th></th>\n",
              "      <th></th>\n",
              "      <th></th>\n",
              "      <th></th>\n",
              "      <th></th>\n",
              "    </tr>\n",
              "  </thead>\n",
              "  <tbody>\n",
              "    <tr>\n",
              "      <th>2015-01-01</th>\n",
              "      <td>441.812073</td>\n",
              "      <td>437.676270</td>\n",
              "      <td>438.988831</td>\n",
              "      <td>439.781311</td>\n",
              "      <td>1367720.0</td>\n",
              "      <td>420.596039</td>\n",
              "    </tr>\n",
              "    <tr>\n",
              "      <th>2015-01-02</th>\n",
              "      <td>443.818054</td>\n",
              "      <td>437.998199</td>\n",
              "      <td>439.880371</td>\n",
              "      <td>438.617340</td>\n",
              "      <td>3383424.0</td>\n",
              "      <td>419.482819</td>\n",
              "    </tr>\n",
              "    <tr>\n",
              "      <th>2015-01-05</th>\n",
              "      <td>441.267212</td>\n",
              "      <td>432.946106</td>\n",
              "      <td>438.344940</td>\n",
              "      <td>433.812897</td>\n",
              "      <td>4662967.0</td>\n",
              "      <td>414.888000</td>\n",
              "    </tr>\n",
              "    <tr>\n",
              "      <th>2015-01-06</th>\n",
              "      <td>432.401276</td>\n",
              "      <td>412.093750</td>\n",
              "      <td>430.915344</td>\n",
              "      <td>414.124512</td>\n",
              "      <td>8596809.0</td>\n",
              "      <td>396.058502</td>\n",
              "    </tr>\n",
              "    <tr>\n",
              "      <th>2015-01-07</th>\n",
              "      <td>425.367950</td>\n",
              "      <td>414.570282</td>\n",
              "      <td>414.619812</td>\n",
              "      <td>423.139069</td>\n",
              "      <td>9562421.0</td>\n",
              "      <td>404.679810</td>\n",
              "    </tr>\n",
              "    <tr>\n",
              "      <th>...</th>\n",
              "      <td>...</td>\n",
              "      <td>...</td>\n",
              "      <td>...</td>\n",
              "      <td>...</td>\n",
              "      <td>...</td>\n",
              "      <td>...</td>\n",
              "    </tr>\n",
              "    <tr>\n",
              "      <th>2021-04-12</th>\n",
              "      <td>1961.400024</td>\n",
              "      <td>1900.250000</td>\n",
              "      <td>1959.000000</td>\n",
              "      <td>1911.150024</td>\n",
              "      <td>9646031.0</td>\n",
              "      <td>1911.150024</td>\n",
              "    </tr>\n",
              "    <tr>\n",
              "      <th>2021-04-13</th>\n",
              "      <td>1940.599976</td>\n",
              "      <td>1917.849976</td>\n",
              "      <td>1924.000000</td>\n",
              "      <td>1931.800049</td>\n",
              "      <td>8958261.0</td>\n",
              "      <td>1931.800049</td>\n",
              "    </tr>\n",
              "    <tr>\n",
              "      <th>2021-04-15</th>\n",
              "      <td>1961.000000</td>\n",
              "      <td>1913.000000</td>\n",
              "      <td>1926.300049</td>\n",
              "      <td>1944.300049</td>\n",
              "      <td>9102492.0</td>\n",
              "      <td>1944.300049</td>\n",
              "    </tr>\n",
              "    <tr>\n",
              "      <th>2021-04-16</th>\n",
              "      <td>1949.900024</td>\n",
              "      <td>1926.449951</td>\n",
              "      <td>1936.599976</td>\n",
              "      <td>1932.099976</td>\n",
              "      <td>7225679.0</td>\n",
              "      <td>1932.099976</td>\n",
              "    </tr>\n",
              "    <tr>\n",
              "      <th>2021-04-19</th>\n",
              "      <td>1916.400024</td>\n",
              "      <td>1890.000000</td>\n",
              "      <td>1904.000000</td>\n",
              "      <td>1901.699951</td>\n",
              "      <td>8525905.0</td>\n",
              "      <td>1901.699951</td>\n",
              "    </tr>\n",
              "  </tbody>\n",
              "</table>\n",
              "<p>1550 rows × 6 columns</p>\n",
              "</div>"
            ],
            "text/plain": [
              "                   High          Low  ...     Volume    Adj Close\n",
              "Date                                  ...                        \n",
              "2015-01-01   441.812073   437.676270  ...  1367720.0   420.596039\n",
              "2015-01-02   443.818054   437.998199  ...  3383424.0   419.482819\n",
              "2015-01-05   441.267212   432.946106  ...  4662967.0   414.888000\n",
              "2015-01-06   432.401276   412.093750  ...  8596809.0   396.058502\n",
              "2015-01-07   425.367950   414.570282  ...  9562421.0   404.679810\n",
              "...                 ...          ...  ...        ...          ...\n",
              "2021-04-12  1961.400024  1900.250000  ...  9646031.0  1911.150024\n",
              "2021-04-13  1940.599976  1917.849976  ...  8958261.0  1931.800049\n",
              "2021-04-15  1961.000000  1913.000000  ...  9102492.0  1944.300049\n",
              "2021-04-16  1949.900024  1926.449951  ...  7225679.0  1932.099976\n",
              "2021-04-19  1916.400024  1890.000000  ...  8525905.0  1901.699951\n",
              "\n",
              "[1550 rows x 6 columns]"
            ]
          },
          "metadata": {
            "tags": []
          },
          "execution_count": 24
        }
      ]
    },
    {
      "cell_type": "code",
      "metadata": {
        "id": "it_tNc6aB1cS"
      },
      "source": [
        "#url = 'C:/Users/aloks/Documents/Personal/Development/ML/Data Science/Predictin Stock Prices/Data/RELIANCE.csv'\n",
        "#df1 = pd.read_csv(url)\n",
        "#df1"
      ],
      "execution_count": null,
      "outputs": []
    },
    {
      "cell_type": "code",
      "metadata": {
        "id": "dL9QjhvQB1cT"
      },
      "source": [
        ""
      ],
      "execution_count": null,
      "outputs": []
    },
    {
      "cell_type": "code",
      "metadata": {
        "colab": {
          "base_uri": "https://localhost:8080/",
          "height": 517
        },
        "id": "-XvgogQ9B1cT",
        "outputId": "ada8c043-ab23-408e-af82-661c17028c20"
      },
      "source": [
        "plt.figure(figsize=(16,8))\n",
        "plt.title('Close Price History')\n",
        "plt.plot(df1['Close'])\n",
        "plt.xlabel('Date', fontsize =18)\n",
        "plt.ylabel('LTP(INR)', fontsize =18)\n",
        "plt.show()"
      ],
      "execution_count": null,
      "outputs": [
        {
          "output_type": "display_data",
          "data": {
            "image/png": "[encoded data removed]",
            "text/plain": [
              "<Figure size 1152x576 with 1 Axes>"
            ]
          },
          "metadata": {
            "tags": [],
            "needs_background": "light"
          }
        }
      ]
    },
    {
      "cell_type": "code",
      "metadata": {
        "id": "WPFv1wtbB1cU"
      },
      "source": [
        "#create a new data frame with close column\n",
        "\n",
        "data = df1.filter(['Close'])\n",
        "\n",
        "#convert dataframe to numpy array\n",
        "dataset = data.values"
      ],
      "execution_count": null,
      "outputs": []
    },
    {
      "cell_type": "code",
      "metadata": {
        "colab": {
          "base_uri": "https://localhost:8080/"
        },
        "id": "AmaTY_WLB1cV",
        "outputId": "c1ea1927-80dc-4cc5-e737-a7f95a1fe009"
      },
      "source": [
        "#get number of rows to train the model on\n",
        "training_data_len = math.ceil(len(dataset)* .8)\n",
        "\n",
        "training_data_len"
      ],
      "execution_count": null,
      "outputs": [
        {
          "output_type": "execute_result",
          "data": {
            "text/plain": [
              "1240"
            ]
          },
          "metadata": {
            "tags": []
          },
          "execution_count": 38
        }
      ]
    },
    {
      "cell_type": "code",
      "metadata": {
        "colab": {
          "base_uri": "https://localhost:8080/"
        },
        "id": "sFP1GoFoB1cW",
        "outputId": "411fd193-87fa-4933-aadd-094d9820149e"
      },
      "source": [
        "#Scale the data\n",
        "scaler = MinMaxScaler(feature_range=(0,1))\n",
        "scaled_data = scaler.fit_transform(dataset)\n",
        "\n",
        "scaled_data"
      ],
      "execution_count": null,
      "outputs": [
        {
          "output_type": "execute_result",
          "data": {
            "text/plain": [
              "array([[0.01987163],\n",
              "       [0.01926633],\n",
              "       [0.0167679 ],\n",
              "       ...,\n",
              "       [0.80226019],\n",
              "       [0.79591584],\n",
              "       [0.78010704]])"
            ]
          },
          "metadata": {
            "tags": []
          },
          "execution_count": 29
        }
      ]
    },
    {
      "cell_type": "code",
      "metadata": {
        "colab": {
          "base_uri": "https://localhost:8080/"
        },
        "id": "yKiQyE3LB1cZ",
        "outputId": "9af6faa2-fab1-4957-d34f-6e129d774e37"
      },
      "source": [
        "#create trainign data set\n",
        "#create scaled training data set\n",
        "train_data = scaled_data[0:training_data_len, :]\n",
        "\n",
        "x_train = []\n",
        "y_train = []\n",
        "\n",
        "for i in range(60, len(train_data)):\n",
        "    x_train.append(train_data[i-60:i, 0])\n",
        "    y_train.append(train_data[i, 0])\n",
        "\n",
        "    if i<=61:\n",
        "        print(x_train)\n",
        "        print(y_train)\n",
        "        print()"
      ],
      "execution_count": null,
      "outputs": [
        {
          "output_type": "stream",
          "text": [
            "[array([0.01987163, 0.01926633, 0.0167679 , 0.00652943, 0.01121723,\n",
            "       0.00806197, 0.01276266, 0.01018694, 0.00834531, 0.00623322,\n",
            "       0.01378006, 0.01518382, 0.01774666, 0.02377383, 0.02472684,\n",
            "       0.01880271, 0.01961406, 0.02016784, 0.0247526 , 0.03056083,\n",
            "       0.02691621, 0.0250617 , 0.03267293, 0.03040629, 0.02909269,\n",
            "       0.02553819, 0.02213825, 0.01835195, 0.02316854, 0.02534502,\n",
            "       0.02749575, 0.02370943, 0.02341324, 0.02351627, 0.01605957,\n",
            "       0.01048315, 0.00790743, 0.00834531, 0.0080491 , 0.0115392 ,\n",
            "       0.01378006, 0.0231943 , 0.01985876, 0.01911179, 0.01517095,\n",
            "       0.01246645, 0.01164223, 0.01366415, 0.01013542, 0.00807486,\n",
            "       0.01187404, 0.01491338, 0.01169374, 0.01116572, 0.00803621,\n",
            "       0.00958164, 0.00879605, 0.00477794, 0.00024468, 0.        ])]\n",
            "[0.0039279658887957924]\n",
            "\n",
            "[array([0.01987163, 0.01926633, 0.0167679 , 0.00652943, 0.01121723,\n",
            "       0.00806197, 0.01276266, 0.01018694, 0.00834531, 0.00623322,\n",
            "       0.01378006, 0.01518382, 0.01774666, 0.02377383, 0.02472684,\n",
            "       0.01880271, 0.01961406, 0.02016784, 0.0247526 , 0.03056083,\n",
            "       0.02691621, 0.0250617 , 0.03267293, 0.03040629, 0.02909269,\n",
            "       0.02553819, 0.02213825, 0.01835195, 0.02316854, 0.02534502,\n",
            "       0.02749575, 0.02370943, 0.02341324, 0.02351627, 0.01605957,\n",
            "       0.01048315, 0.00790743, 0.00834531, 0.0080491 , 0.0115392 ,\n",
            "       0.01378006, 0.0231943 , 0.01985876, 0.01911179, 0.01517095,\n",
            "       0.01246645, 0.01164223, 0.01366415, 0.01013542, 0.00807486,\n",
            "       0.01187404, 0.01491338, 0.01169374, 0.01116572, 0.00803621,\n",
            "       0.00958164, 0.00879605, 0.00477794, 0.00024468, 0.        ]), array([0.01926633, 0.0167679 , 0.00652943, 0.01121723, 0.00806197,\n",
            "       0.01276266, 0.01018694, 0.00834531, 0.00623322, 0.01378006,\n",
            "       0.01518382, 0.01774666, 0.02377383, 0.02472684, 0.01880271,\n",
            "       0.01961406, 0.02016784, 0.0247526 , 0.03056083, 0.02691621,\n",
            "       0.0250617 , 0.03267293, 0.03040629, 0.02909269, 0.02553819,\n",
            "       0.02213825, 0.01835195, 0.02316854, 0.02534502, 0.02749575,\n",
            "       0.02370943, 0.02341324, 0.02351627, 0.01605957, 0.01048315,\n",
            "       0.00790743, 0.00834531, 0.0080491 , 0.0115392 , 0.01378006,\n",
            "       0.0231943 , 0.01985876, 0.01911179, 0.01517095, 0.01246645,\n",
            "       0.01164223, 0.01366415, 0.01013542, 0.00807486, 0.01187404,\n",
            "       0.01491338, 0.01169374, 0.01116572, 0.00803621, 0.00958164,\n",
            "       0.00879605, 0.00477794, 0.00024468, 0.        , 0.00392797])]\n",
            "[0.0039279658887957924, 0.006516557460930855]\n",
            "\n"
          ],
          "name": "stdout"
        }
      ]
    },
    {
      "cell_type": "code",
      "metadata": {
        "id": "6Op5eOraB1ca"
      },
      "source": [
        "#convert x_train & y_train to numpy arrays\n",
        "\n",
        "x_train, y_train = np.array(x_train), np.array(y_train)"
      ],
      "execution_count": null,
      "outputs": []
    },
    {
      "cell_type": "code",
      "metadata": {
        "colab": {
          "base_uri": "https://localhost:8080/"
        },
        "id": "cFKFbPZqB1ca",
        "outputId": "d249cb60-e901-4779-ace5-5bd9e4956980"
      },
      "source": [
        "#Reshape the data\n",
        "x_train.shape"
      ],
      "execution_count": null,
      "outputs": [
        {
          "output_type": "execute_result",
          "data": {
            "text/plain": [
              "(1180, 60)"
            ]
          },
          "metadata": {
            "tags": []
          },
          "execution_count": 32
        }
      ]
    },
    {
      "cell_type": "code",
      "metadata": {
        "colab": {
          "base_uri": "https://localhost:8080/"
        },
        "id": "0WhKs2WvB1cb",
        "outputId": "989c701f-0a65-4863-95b6-755bc6242bb3"
      },
      "source": [
        "x_train = np.reshape(x_train, (x_train.shape[0], x_train.shape[1], 1))\n",
        "x_train.shape"
      ],
      "execution_count": null,
      "outputs": [
        {
          "output_type": "execute_result",
          "data": {
            "text/plain": [
              "(1180, 60, 1)"
            ]
          },
          "metadata": {
            "tags": []
          },
          "execution_count": 33
        }
      ]
    },
    {
      "cell_type": "code",
      "metadata": {
        "id": "E86m86IcB1cb"
      },
      "source": [
        "#build model\n",
        "\n",
        "model = Sequential()\n",
        "model.add(LSTM(50, return_sequences=True, input_shape=(x_train.shape[1], 1)))\n",
        "model.add(LSTM(50, return_sequences=False))\n",
        "model.add(Dense(25))\n",
        "model.add(Dense(1))"
      ],
      "execution_count": null,
      "outputs": []
    },
    {
      "cell_type": "code",
      "metadata": {
        "id": "JazSNEq7B1cb"
      },
      "source": [
        "#compile model\n",
        "model.compile(optimizer='adam', loss='mean_squared_error')"
      ],
      "execution_count": null,
      "outputs": []
    },
    {
      "cell_type": "code",
      "metadata": {
        "colab": {
          "base_uri": "https://localhost:8080/"
        },
        "id": "IMzZfylSDtxU",
        "outputId": "43b707d1-fe6f-42c1-8a5c-685075eaf8c6"
      },
      "source": [
        "#train\n",
        "\n",
        "model.fit(x_train, y_train, batch_size=1, epochs=1)"
      ],
      "execution_count": null,
      "outputs": [
        {
          "output_type": "stream",
          "text": [
            "1180/1180 [==============================] - 27s 20ms/step - loss: 0.0033\n"
          ],
          "name": "stdout"
        },
        {
          "output_type": "execute_result",
          "data": {
            "text/plain": [
              "<tensorflow.python.keras.callbacks.History at 0x7f5419882410>"
            ]
          },
          "metadata": {
            "tags": []
          },
          "execution_count": 36
        }
      ]
    },
    {
      "cell_type": "code",
      "metadata": {
        "id": "YWPcR3ILD8af"
      },
      "source": [
        "#create testing dataset\n",
        "#create a new array containing scaled values from index 1180 to 1550\n",
        "\n",
        "test_data = scaled_data[training_data_len - 60: , :]\n",
        "\n",
        "#create the data sets x_test & y_test\n",
        "\n",
        "x_test=[]\n",
        "y_test = dataset[training_data_len: , :]\n",
        "for i in range (60, len(test_data)):\n",
        "  x_test.append(test_data[i-60:i, 0])"
      ],
      "execution_count": null,
      "outputs": []
    },
    {
      "cell_type": "code",
      "metadata": {
        "colab": {
          "base_uri": "https://localhost:8080/"
        },
        "id": "u9ujPuboE4VL",
        "outputId": "a3d0ec07-db2b-49cd-af76-6a25f92be656"
      },
      "source": [
        "#convert the data to a numpy array\n",
        "\n",
        "x_test = np.array(x_test)\n",
        "x_test.shape"
      ],
      "execution_count": null,
      "outputs": [
        {
          "output_type": "execute_result",
          "data": {
            "text/plain": [
              "(310, 60)"
            ]
          },
          "metadata": {
            "tags": []
          },
          "execution_count": 41
        }
      ]
    },
    {
      "cell_type": "code",
      "metadata": {
        "colab": {
          "base_uri": "https://localhost:8080/"
        },
        "id": "T48KnzAgFBnD",
        "outputId": "a7c01e5c-ed3a-44c4-dd1f-9265eece4f5a"
      },
      "source": [
        "#Reshape the data\n",
        "x_test = np.reshape(x_test, (x_test.shape[0], x_test.shape[1], 1))\n",
        "x_test"
      ],
      "execution_count": null,
      "outputs": [
        {
          "output_type": "execute_result",
          "data": {
            "text/plain": [
              "array([[[0.51966311],\n",
              "        [0.50845875],\n",
              "        [0.53115084],\n",
              "        ...,\n",
              "        [0.57903334],\n",
              "        [0.57617427],\n",
              "        [0.58341204]],\n",
              "\n",
              "       [[0.50845875],\n",
              "        [0.53115084],\n",
              "        [0.52844629],\n",
              "        ...,\n",
              "        [0.57617427],\n",
              "        [0.58341204],\n",
              "        [0.6056147 ]],\n",
              "\n",
              "       [[0.53115084],\n",
              "        [0.52844629],\n",
              "        [0.54691419],\n",
              "        ...,\n",
              "        [0.58341204],\n",
              "        [0.6056147 ],\n",
              "        [0.58055304]],\n",
              "\n",
              "       ...,\n",
              "\n",
              "       [[0.81073657],\n",
              "        [0.79869796],\n",
              "        [0.82287916],\n",
              "        ...,\n",
              "        [0.82189116],\n",
              "        [0.78502132],\n",
              "        [0.79575987]],\n",
              "\n",
              "       [[0.79869796],\n",
              "        [0.82287916],\n",
              "        [0.83975404],\n",
              "        ...,\n",
              "        [0.78502132],\n",
              "        [0.79575987],\n",
              "        [0.80226019]],\n",
              "\n",
              "       [[0.82287916],\n",
              "        [0.83975404],\n",
              "        [0.85967099],\n",
              "        ...,\n",
              "        [0.79575987],\n",
              "        [0.80226019],\n",
              "        [0.79591584]]])"
            ]
          },
          "metadata": {
            "tags": []
          },
          "execution_count": 42
        }
      ]
    },
    {
      "cell_type": "code",
      "metadata": {
        "id": "e-hUrXZbFXjb"
      },
      "source": [
        "#Get teh model predicted price values\n",
        "\n",
        "predictions = model.predict(x_test)\n",
        "predictions = scaler.inverse_transform(predictions)\n"
      ],
      "execution_count": null,
      "outputs": []
    },
    {
      "cell_type": "code",
      "metadata": {
        "colab": {
          "base_uri": "https://localhost:8080/"
        },
        "id": "P2eCK7KhFwh8",
        "outputId": "14ee3ea9-c663-4c7d-860e-b11f4ba0c3b9"
      },
      "source": [
        "#get root mean square error(RMSE)\n",
        "\n",
        "rmse = np.sqrt(np.mean(predictions - y_test)**2)\n",
        "rmse"
      ],
      "execution_count": null,
      "outputs": [
        {
          "output_type": "execute_result",
          "data": {
            "text/plain": [
              "4.342704526839718"
            ]
          },
          "metadata": {
            "tags": []
          },
          "execution_count": 45
        }
      ]
    },
    {
      "cell_type": "code",
      "metadata": {
        "colab": {
          "base_uri": "https://localhost:8080/",
          "height": 842
        },
        "id": "GBgtGOAlF_rb",
        "outputId": "8696f03b-dbff-4899-955f-c0970fcd1496"
      },
      "source": [
        "#plot the data\n",
        "\n",
        "train = data[:training_data_len]\n",
        "valid = data[training_data_len:]\n",
        "valid['Predictions'] = predictions\n",
        "\n",
        "#visualise the data\n",
        "\n",
        "plt.figure(figsize=(18,12))\n",
        "plt.title('Model')\n",
        "plt.xlabel('Date', fontsize =18)\n",
        "plt.ylabel('LTP', fontsize = 18)\n",
        "plt.plot(train['Close'])\n",
        "plt.plot(valid[['Close', 'Predictions']])\n",
        "plt.legend(['Train', 'Val', 'Predictions'], loc = 'lower right')\n",
        "plt.show()"
      ],
      "execution_count": null,
      "outputs": [
        {
          "output_type": "stream",
          "text": [
            "/usr/local/lib/python3.7/dist-packages/ipykernel_launcher.py:5: SettingWithCopyWarning: \n",
            "A value is trying to be set on a copy of a slice from a DataFrame.\n",
            "Try using .loc[row_indexer,col_indexer] = value instead\n",
            "\n",
            "See the caveats in the documentation: https://pandas.pydata.org/pandas-docs/stable/user_guide/indexing.html#returning-a-view-versus-a-copy\n",
            "  \"\"\"\n"
          ],
          "name": "stderr"
        },
        {
          "output_type": "display_data",
          "data": {
            "image/png": "[encoded data removed]",
            "text/plain": [
              "<Figure size 1296x864 with 1 Axes>"
            ]
          },
          "metadata": {
            "tags": [],
            "needs_background": "light"
          }
        }
      ]
    },
    {
      "cell_type": "code",
      "metadata": {
        "colab": {
          "base_uri": "https://localhost:8080/",
          "height": 436
        },
        "id": "pv4zEKF8G4gf",
        "outputId": "b27f38af-cadb-41f1-917b-8220ee002798"
      },
      "source": [
        "#show the valid actual price & predicted price\n",
        "\n",
        "valid"
      ],
      "execution_count": null,
      "outputs": [
        {
          "output_type": "execute_result",
          "data": {
            "text/html": [
              "<div>\n",
              "<style scoped>\n",
              "    .dataframe tbody tr th:only-of-type {\n",
              "        vertical-align: middle;\n",
              "    }\n",
              "\n",
              "    .dataframe tbody tr th {\n",
              "        vertical-align: top;\n",
              "    }\n",
              "\n",
              "    .dataframe thead th {\n",
              "        text-align: right;\n",
              "    }\n",
              "</style>\n",
              "<table border=\"1\" class=\"dataframe\">\n",
              "  <thead>\n",
              "    <tr style=\"text-align: right;\">\n",
              "      <th></th>\n",
              "      <th>Close</th>\n",
              "      <th>Predictions</th>\n",
              "    </tr>\n",
              "    <tr>\n",
              "      <th>Date</th>\n",
              "      <th></th>\n",
              "      <th></th>\n",
              "    </tr>\n",
              "  </thead>\n",
              "  <tbody>\n",
              "    <tr>\n",
              "      <th>2020-01-17</th>\n",
              "      <td>1566.154419</td>\n",
              "      <td>1549.009766</td>\n",
              "    </tr>\n",
              "    <tr>\n",
              "      <th>2020-01-20</th>\n",
              "      <td>1517.961304</td>\n",
              "      <td>1552.929932</td>\n",
              "    </tr>\n",
              "    <tr>\n",
              "      <th>2020-01-21</th>\n",
              "      <td>1519.496704</td>\n",
              "      <td>1554.687988</td>\n",
              "    </tr>\n",
              "    <tr>\n",
              "      <th>2020-01-22</th>\n",
              "      <td>1518.951904</td>\n",
              "      <td>1555.471069</td>\n",
              "    </tr>\n",
              "    <tr>\n",
              "      <th>2020-01-23</th>\n",
              "      <td>1512.512939</td>\n",
              "      <td>1555.545044</td>\n",
              "    </tr>\n",
              "    <tr>\n",
              "      <th>...</th>\n",
              "      <td>...</td>\n",
              "      <td>...</td>\n",
              "    </tr>\n",
              "    <tr>\n",
              "      <th>2021-04-12</th>\n",
              "      <td>1911.150024</td>\n",
              "      <td>2010.862793</td>\n",
              "    </tr>\n",
              "    <tr>\n",
              "      <th>2021-04-13</th>\n",
              "      <td>1931.800049</td>\n",
              "      <td>2001.387573</td>\n",
              "    </tr>\n",
              "    <tr>\n",
              "      <th>2021-04-15</th>\n",
              "      <td>1944.300049</td>\n",
              "      <td>1991.750854</td>\n",
              "    </tr>\n",
              "    <tr>\n",
              "      <th>2021-04-16</th>\n",
              "      <td>1932.099976</td>\n",
              "      <td>1983.462280</td>\n",
              "    </tr>\n",
              "    <tr>\n",
              "      <th>2021-04-19</th>\n",
              "      <td>1901.699951</td>\n",
              "      <td>1975.520142</td>\n",
              "    </tr>\n",
              "  </tbody>\n",
              "</table>\n",
              "<p>310 rows × 2 columns</p>\n",
              "</div>"
            ],
            "text/plain": [
              "                  Close  Predictions\n",
              "Date                                \n",
              "2020-01-17  1566.154419  1549.009766\n",
              "2020-01-20  1517.961304  1552.929932\n",
              "2020-01-21  1519.496704  1554.687988\n",
              "2020-01-22  1518.951904  1555.471069\n",
              "2020-01-23  1512.512939  1555.545044\n",
              "...                 ...          ...\n",
              "2021-04-12  1911.150024  2010.862793\n",
              "2021-04-13  1931.800049  2001.387573\n",
              "2021-04-15  1944.300049  1991.750854\n",
              "2021-04-16  1932.099976  1983.462280\n",
              "2021-04-19  1901.699951  1975.520142\n",
              "\n",
              "[310 rows x 2 columns]"
            ]
          },
          "metadata": {
            "tags": []
          },
          "execution_count": 50
        }
      ]
    },
    {
      "cell_type": "code",
      "metadata": {
        "colab": {
          "base_uri": "https://localhost:8080/"
        },
        "id": "Oy-zrT4wHM-V",
        "outputId": "80110e4f-2188-4ab9-af4d-42cc452efe70"
      },
      "source": [
        "#get the quote\n",
        "reliance_quote = pdr.DataReader(\"RELIANCE.NS\", start='2015-1-1', end='2021-4-15', data_source='yahoo')\n",
        "\n",
        "#create a new data frame\n",
        "new_df = reliance_quote.filter(['Close'])\n",
        "\n",
        "#Get last 60 days closing price values and convert the dataframe to array\n",
        "last60_days = new_df[-60:].values\n",
        "\n",
        "#scale the data to be values between 0 & 1\n",
        "last60_days_scaled = scaler.transform(last60_days)\n",
        "\n",
        "#create empty list\n",
        "X_test = []\n",
        "\n",
        "#append\n",
        "X_test.append(last60_days_scaled)\n",
        "\n",
        "#convert X_test to numpy array\n",
        "X_test = np.array(X_test)\n",
        "\n",
        "#reshape to 3d\n",
        "X_test = np.reshape(X_test, (X_test.shape[0], X_test.shape[1], 1))\n",
        "\n",
        "#prediction\n",
        "pred_price = model.predict(X_test)\n",
        "\n",
        "#undo scaling\n",
        "pred_price = scaler.inverse_transform(pred_price)\n",
        "\n",
        "print(pred_price)"
      ],
      "execution_count": null,
      "outputs": [
        {
          "output_type": "stream",
          "text": [
            "[[1975.5201]]\n"
          ],
          "name": "stdout"
        }
      ]
    },
    {
      "cell_type": "code",
      "metadata": {
        "colab": {
          "base_uri": "https://localhost:8080/"
        },
        "id": "qdVpgwUyJOAX",
        "outputId": "5643b118-b540-4198-8539-7f24158b74db"
      },
      "source": [
        "reliance_quote2 = pdr.DataReader(\"RELIANCE.NS\", start='2021-4-15', end='2021-4-19', data_source='yahoo')\n",
        "print(reliance_quote2['Close'])"
      ],
      "execution_count": null,
      "outputs": [
        {
          "output_type": "stream",
          "text": [
            "Date\n",
            "2021-04-15    1944.300049\n",
            "2021-04-16    1932.099976\n",
            "2021-04-19    1901.699951\n",
            "Name: Close, dtype: float64\n"
          ],
          "name": "stdout"
        }
      ]
    },
    {
      "cell_type": "code",
      "metadata": {
        "id": "62Uo0YCaJiJ8"
      },
      "source": [
        ""
      ],
      "execution_count": null,
      "outputs": []
    }
  ]
}